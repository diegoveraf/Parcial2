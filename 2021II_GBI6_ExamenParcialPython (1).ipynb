{
 "cells": [
  {
   "cell_type": "markdown",
   "metadata": {},
   "source": [
    "<img src=\"https://www.ikiam.edu.ec/img/logo-ikiam-grey.png\" width=300 height=240 />\n",
    "\n",
    "# EXAMEN PARCIAL PYTHON\n",
    "    \n",
    "\n",
    "## GBI6-2021II: BIOINFORMÁTICA\n",
    "\n",
    "**Vera Figueroa, Diego Alexander** <--- \n",
    "\n",
    "**24-02-2022**"
   ]
  },
  {
   "cell_type": "markdown",
   "metadata": {},
   "source": [
    "<font color='red'>NO AGREGUE NUEVAS CELDAS, UTILICE ÚNICAMENTE LAS QUE ESTÁN CREADAS</font>\n"
   ]
  },
  {
   "cell_type": "markdown",
   "metadata": {},
   "source": [
    "### REQUERIMIENTOS PARA EL EXAMEN\n",
    "Para este examen se requiere dos documentos: \n",
    "\n",
    "1. Archivo ```miningscience.py``` donde tendrá dos funciones:\n",
    "\n",
    "2. Archivo ```2021II_GBI6_ExamenParcialPython``` donde se llamará las funciones y se obtendrá resultados."
   ]
  },
  {
   "cell_type": "markdown",
   "metadata": {},
   "source": [
    "## Ejercicio 1 [2 puntos]\n",
    "Cree el archivo ```miningscience.py``` con las siguientes dos funciones:\n",
    "    \n",
    "i. ```download_pubmed```: para descargar la data de PubMed utilizando el **ENTREZ** de Biopython. El parámetro de entrada para la función es el ```keyword```. \n",
    "    \n",
    "ii. ```mining_pubs```: esta función debe utilizar el módulo **re** y utilizar el párametro ```tipo``` para realizar lo siguiente:\n",
    "        \n",
    "* Si el tipo es \"DP\" recupera el año de publicación del artículo. El retorno es un *dataframe* con el **PMID** y el **DP_year**.\n",
    "      \n",
    "* Si el tipo es \"AU\" recupera el número de autores por **PMID**. El retorno es un *dataframe* con el **PMID** y el **num_auth**. \n",
    "      \n",
    "* Si el tipo es \"AD\" recupera el conteo de autores por país. El retorno es un *dataframe* con el **country** y el **num_auth**. \n",
    "\n",
    "* *Puede utilizar un ```if``` dentro de la función.* \n",
    "\n",
    "* *Cree un docstring para cada función.* \n",
    "\n",
    "Luego de crear las funciones, cargue el módulo ```miningscience``` como ```msc``` e imprima docstring de cada función.\n",
    "\n",
    "\n"
   ]
  },
  {
   "cell_type": "code",
   "execution_count": 2,
   "metadata": {},
   "outputs": [
    {
     "name": "stdout",
     "output_type": "stream",
     "text": [
      "Help on function download_pubmed in module miningscience:\n",
      "\n",
      "download_pubmed(keyword)\n",
      "    En esta función se llama a Entrez para hacer una busqueda en NCBI, conectandose al servidos sin la necesidad de descarar los datos.\n",
      "\n",
      "Help on function mining_pubs in module miningscience:\n",
      "\n",
      "mining_pubs(tipo, key2)\n",
      "    La función mining_pubs, posee 2 argumentos que corresponden a la lectura de nube y el tipo que es: DP, AU o AD.\n",
      "    Si el tipo es \"DP\" recupera el año de publicación del artículo. El retorno es un dataframe con el PMID y el DP_year.\n",
      "    Si el tipo es \"AU\" recupera el número de autores por PMID. El retorno es un dataframe con el PMID y el num_auth.\n",
      "    Si el tipo es \"AD\" recupera el conteo de autores por país. El retorno es un dataframe con el country y el num_auth.\n",
      "\n"
     ]
    }
   ],
   "source": [
    "import miningscience as msc\n",
    "\n",
    "#Información de las funciones\n",
    "help (msc.download_pubmed)\n",
    "help (msc.mining_pubs)\n"
   ]
  },
  {
   "cell_type": "markdown",
   "metadata": {},
   "source": [
    "\n",
    "## Ejercicio 2 [1 punto]\n",
    "\n",
    "\n",
    "Utilice la función ```download_pubmed``` para descargar la data con el keyword ```Ecuador genomics``` e imprima lo siguiente: \n",
    "\n",
    "```python\n",
    "'El número de artículos es: xx' # xx corresponde al número de artículos recuperados\n",
    "\n",
    "'El PMID del primer artículo es: xxxxxxxx' # xxxxxxxx corresponde al ID del artículo en PUDMED\n",
    "\n",
    "```"
   ]
  },
  {
   "cell_type": "code",
   "execution_count": 16,
   "metadata": {},
   "outputs": [
    {
     "name": "stdout",
     "output_type": "stream",
     "text": [
      "18\n",
      "['\\n', 'PMID- 35113400\\n', 'OWN - NLM\\n', 'STAT- MEDLINE\\n', 'DCOM- 20220207\\n', 'LR  - 20220208\\n', 'IS  - 0065-2598 (Print)\\n', 'IS  - 0065-2598 (Linking)\\n', 'VI  - 1346\\n', 'DP  - 2021\\n']\n"
     ]
    }
   ],
   "source": [
    "# Escriba aquí su código para el ejercicio 2\n",
    "#Biblioteca ocupada\n",
    "import re\n",
    "#Llamado de las funciones\n",
    "key1 = msc.download_pubmed(\"Ecuador genomics [Title/Abstract]\")\n",
    "key2 = re.findall(r'[PMID]{4}\\-.*\\d\\n',key1)\n",
    "\n",
    "#Se da el resultado\n",
    "print(\"El numero de articulos es:\", len(key2)) \n",
    "print(\"\\nEl PMID del primer articulo es:\", key2[0])"
   ]
  },
  {
   "cell_type": "code",
   "execution_count": 3,
   "metadata": {},
   "outputs": [
    {
     "name": "stdout",
     "output_type": "stream",
     "text": [
      "El numero de articulos es: 55\n",
      "\n",
      "El PMID del primer articulo es: PMID- 35120121\n",
      "\n"
     ]
    }
   ],
   "source": [
    "#Biblioteca ocupada\n",
    "import re\n",
    "#Llamado de las funciones\n",
    "key1 = msc.download_pubmed(\"Ecuador genomics [Title/Abstract]\")\n",
    "key2 = re.findall(r'[PMID]{4}\\-.*\\d\\n',key1)\n",
    "\n",
    "#Se da el resultado\n",
    "print(\"El numero de articulos es:\", len(key2)) \n",
    "print(\"\\nEl PMID del primer articulo es:\", key2[0])"
   ]
  },
  {
   "cell_type": "markdown",
   "metadata": {},
   "source": [
    "## Ejercicio 3 [1 punto]\n",
    "\n",
    "Utilice la función ```mining_pubs``` para crear los siguientes dataframes: \n",
    "\n",
    "* pub_year\n",
    "\n",
    "* pub_authors\n",
    "\n",
    "* coutries\n",
    "\n",
    "Muestre los dos primeros y los dos últimos registros de cada dataframe. "
   ]
  },
  {
   "cell_type": "code",
   "execution_count": 5,
   "metadata": {},
   "outputs": [
    {
     "name": "stdout",
     "output_type": "stream",
     "text": [
      "El dataFrames de pub_year es:\n",
      "       PMID Years\n",
      "0  35120121  2022\n",
      "1  35064679  2022\n",
      "        PMID Years\n",
      "53  19844075  2010\n",
      "54  19018989  2008\n",
      "\n",
      "\n",
      "El dataFrames de pub_authors es:\n",
      "       PMID  Numero de autores\n",
      "0  35120121                 14\n",
      "1  35064679                  7\n",
      "        PMID  Numero de autores\n",
      "53  19844075                  2\n",
      "54  19018989                  7\n",
      "\n",
      "\n",
      "El dataFrames de countries es:\n",
      "     country  num_auth\n",
      "0  Australia        22\n",
      "1    Austria         8\n",
      "      country  num_auth\n",
      "56    Uruguay         1\n",
      "57  Venezuela         2\n"
     ]
    }
   ],
   "source": [
    "print (\"El dataFrames de pub_year es:\")\n",
    "yr = msc.mining_pubs('AD',key1)\n",
    "print(yr.head(2))\n",
    "print(yr.tail(2))\n",
    "\n",
    "print (\"\\n\\nEl dataFrames de pub_authors es:\")\n",
    "au = msc.mining_pubs('AU',key1)\n",
    "print(au.head(2))\n",
    "print(au.tail(2))\n",
    "\n",
    "print (\"\\n\\nEl dataFrames de countries es:\")\n",
    "co = msc.mining_pubs('PD',key1)\n",
    "print(co.head(2))\n",
    "print(co.tail(2))"
   ]
  },
  {
   "cell_type": "markdown",
   "metadata": {
    "jp-MarkdownHeadingCollapsed": true,
    "tags": []
   },
   "source": [
    "## Ejercicio 4 [2 puntos]\n",
    "\n",
    "Realice la visualización de los datos del ejercicio 3. \n",
    "\n",
    "* ```pubyear```: utilizando el conteo artículos por año, calcule la media y la desviación estandar (asumiendo que la distribución es normal). Realice un gráfico de la distribución normal de sus datos. Coloque el título, leyenda de los ejes \"x\" e \"y\", y la leyenda de la curva (utilice las expresiones matemáticas tipos latex de ser necesario). \n",
    "\n",
    "* ```pub_authors```: realice un boxplot del conteo de autores por artículo. Coloque las leyendas adecuadas para cada eje y el título.  \n",
    "\n",
    "* ```countries```: realice una nube de puntos (adaptación de su tarea), resalte al menos 3 países con flechas. Coloque las leyendas adecuadas para cada eje y el título. \n"
   ]
  },
  {
   "cell_type": "code",
   "execution_count": 7,
   "metadata": {},
   "outputs": [
    {
     "name": "stdout",
     "output_type": "stream",
     "text": [
      "\tGráfica Distribución Normal\n",
      "\n",
      "\tEl número de artículos por año es : [5, 7, 4, 1, 1, 1, 16, 8, 2, 8, 1, 1]\n",
      "\n",
      "\tLa media calculada es:  4.583333333333333\n",
      "\n",
      "\tLa desviación estándar es:  4.386690729417285\n"
     ]
    },
    {
     "data": {
      "image/png": "[encoded data removed]",
      "text/plain": [
       "<Figure size 432x288 with 1 Axes>"
      ]
     },
     "metadata": {
      "needs_background": "light"
     },
     "output_type": "display_data"
    },
    {
     "name": "stdout",
     "output_type": "stream",
     "text": [
      "\n",
      "\n",
      "\tGráfica Boxplot pub_authors\n"
     ]
    },
    {
     "data": {
      "image/png": "[encoded data removed]",
      "text/plain": [
       "<Figure size 648x432 with 1 Axes>"
      ]
     },
     "metadata": {
      "needs_background": "light"
     },
     "output_type": "display_data"
    },
    {
     "name": "stdout",
     "output_type": "stream",
     "text": [
      "\n",
      "\tGráfica de Nubes de datos (countries)\n"
     ]
    },
    {
     "data": {
      "image/png": "[encoded data removed]",
      "text/plain": [
       "<Figure size 1296x864 with 2 Axes>"
      ]
     },
     "metadata": {
      "needs_background": "light"
     },
     "output_type": "display_data"
    }
   ],
   "source": [
    "#Librerias a utilizar en la resolucionde las graficas\n",
    "import csv\n",
    "import pandas as pd\n",
    "import numpy as np\n",
    "import scipy.stats as stats\n",
    "import matplotlib.pyplot as plt\n",
    "\n",
    "#Resolución a pubyear tomadno los valores de la columna años del Ejercicio Anterior\n",
    "#Se añaden los datos alistas nuevas para calcular la media y la desviación estandar (asumiendo que la distribución es normal)\n",
    "print (\"\\tGráfica Distribución Normal\")\n",
    "yr1 = yr.iloc[:,1]\n",
    "yr2 = pd.Series(yr1)\n",
    "yr3 = list(set(yr2))\n",
    "yr4=yr2\n",
    "yr5=yr3\n",
    "yr6=[0]*len(yr5)\n",
    "#Con los datos listos, se hace el algoritmo para graficar\n",
    "k=0\n",
    "for i in yr5:\n",
    "    d=0\n",
    "    for j in yr4:\n",
    "        if i == str(j):\n",
    "            d=d+1\n",
    "    yr6[k]=d\n",
    "    k=k+1\n",
    "#Con el calculo se grafica y escribe mensajes\n",
    "print (\"\\n\\tEl número de artículos por año es :\",yr6)\n",
    "mean = np.average(yr6)\n",
    "print (\"\\n\\tLa media calculada es: \",mean)\n",
    "stan = np.std(yr6)\n",
    "print (\"\\n\\tLa desviación estándar es: \",stan)\n",
    "x = np.linspace(mean - 3*stan, mean + 3*stan, 100)\n",
    "#Expresiones matemáticas tipos latex, basadas en el codigo del aula\n",
    "sigma = stan\n",
    "label = '$\\mu = %.1f, \\ \\sigma^2=%.1f$' %(mean, stan)\n",
    "y_norm = stats.norm.pdf(x, mean, sigma)\n",
    "#Graficas\n",
    "plt.plot(x, y_norm, label=label, c = 'lightseagreen')\n",
    "plt.xlabel(\"N° publicaciones\")\n",
    "plt.ylabel(\"Probabilidad de N° de publicaciones\")\n",
    "plt.title(\"Distribución Normal\")\n",
    "plt.legend(title = \"Parámetros\")\n",
    "plt.show()\n",
    "#Resolución para pub_authors realizando un boxplot del conteo de autores por artículo. \n",
    "#Se llama a los valores de la columna años del Ejercicio Anterior para usar sus datos en una una lista \n",
    "print (\"\\n\\n\\tGráfica Boxplot pub_authors\")\n",
    "au1 = au.iloc[:,1]\n",
    "au2 = pd.Series(au1)\n",
    "au3 = au2.tolist()\n",
    "#Con los datos obtenidos se grafic, basado en el codigo del aula\n",
    "fig = plt.figure(1, figsize=(9, 6))\n",
    "ax = fig.add_subplot(111)\n",
    "bp = ax.boxplot(au3)\n",
    "#Coloque las leyendas adecuadas para cada eje y el título.\n",
    "plt.xlabel('Cantidad de autores')\n",
    "plt.ylabel('N° de Autores')\n",
    "plt.title('Boxplot de autores por artículo')\n",
    "plt.show()\n",
    "\n",
    "\n",
    "\n",
    "#Resolución para hacer la nube de datos de los paises\n",
    "#Se toma los datos anteriores del dataframe\n",
    "listco1= co.iloc[:,0]\n",
    "listco2 = co.iloc[:,1]\n",
    "#Se hace la lista de pasises unicos\n",
    "unicopubmedPaisesTotal=pd.Series(listco1)\n",
    "listco3 = pd.Series(listco2)\n",
    "listco4 = listco3.tolist()\n",
    "\n",
    "#Se asigana los datos al diccionario provenientes de las coordendas del mundo\n",
    "import csv\n",
    "#Declarar diccionario vacio y abre el archivo de coordenadas\n",
    "coordenadasDelMundo = {}\n",
    "with open('coordenadas-del-mundo.txt') as f:\n",
    "    csvr = csv.DictReader(f)\n",
    "    for row in csvr:\n",
    "        coordenadasDelMundo[row['Name']] = [row['Latitude'], row['Longitude']]\n",
    "#Se crea una lista por cada elemento de unico y se compara con el documento de coordenadas para asi graficarlo y contarlo\n",
    "paisesTotalEnOrden = []\n",
    "longitudDePaisesDelMundo = []\n",
    "latitudDePaisesDelMundo = []\n",
    "contDePaisesDelMundo = listco4\n",
    "for i in unicopubmedPaisesTotal:\n",
    "    if i in coordenadasDelMundo.keys():\n",
    "        paisesTotalEnOrden.append(i)\n",
    "        latitudDePaisesDelMundo.append(float(coordenadasDelMundo[i][0]))\n",
    "        longitudDePaisesDelMundo.append(float(coordenadasDelMundo[i][1]))        \n",
    "print(\"\\n\\tGráfica de Nubes de datos (countries)\")\n",
    "#Se grafican las coordenadas usando la biblioteca matplotlib\n",
    "plt.scatter(longitudDePaisesDelMundo, latitudDePaisesDelMundo, s = contDePaisesDelMundo, c= contDePaisesDelMundo)\n",
    "plt.colorbar()\n",
    "#Limites del mapa\n",
    "plt.xlim(-135,170)\n",
    "plt.ylim(-65,95)\n",
    "ard = dict(arrowstyle=\"->\")\n",
    "#Algunos países de interés indicados en la actividad\n",
    "plt.annotate('Australia', xy = (133.775136, -25.274398), \n",
    "               xytext = (90, -60), arrowprops= ard)\n",
    "plt.annotate('Brazil', xy = (-51.92528,-14.235004),\n",
    "               xytext = (-5,-60), arrowprops = ard)\n",
    "plt.annotate('China', xy = (104.195397, 35.86166), \n",
    "               xytext = (85, 80), arrowprops= ard)\n",
    "plt.annotate('Norway', xy = (8.468946, 60.472024), \n",
    "               xytext = (-12, 80), arrowprops= ard)\n",
    "plt.annotate('USA', xy = (-95.712891, 37.09024), \n",
    "               xytext = (-45, 20), arrowprops= ard)\n",
    "plt.annotate('UK', xy = (-3.435973, 55.378051), \n",
    "               xytext = (-45, 50), arrowprops= ard)\n",
    "params = plt.gcf()\n",
    "plSize = params.get_size_inches()\n",
    "params.set_size_inches( (plSize[0] * 3, plSize[1] * 3) )\n",
    "plt.show()"
   ]
  },
  {
   "cell_type": "markdown",
   "metadata": {},
   "source": [
    "## Ejercicio 5 [1 punto]\n",
    "\n",
    "Interprete los resultados del **ejercicio 4**"
   ]
  },
  {
   "cell_type": "markdown",
   "metadata": {},
   "source": [
    "### Escriba la respuesta del ejercicio 5\n"
   ]
  },
  {
   "cell_type": "markdown",
   "metadata": {},
   "source": [
    "## Ejercicio 6 [2 puntos]\n",
    "\n",
    "Para algún gen de interés, realice lo siguiente: \n",
    "\n",
    "1. Una búsqueda en la página del [NCBI nucleotide](https://www.ncbi.nlm.nih.gov/nucleotide/).\n",
    "\n",
    "2. Descargue el ```Accession List``` de su búsqueda.\n",
    "\n",
    "3. Cargue el ```Accession List``` en este notebook y haga una descarga de la data tipo ```genbank``` utilizando los diez primeros IDs de accesión. \n",
    "\n",
    "4. Arme un árbol filogenético para los resultados del paso 3.\n",
    "\n",
    "5. Interprete el árbol del paso 4. "
   ]
  },
  {
   "cell_type": "code",
   "execution_count": null,
   "metadata": {},
   "outputs": [],
   "source": []
  },
  {
   "cell_type": "markdown",
   "metadata": {},
   "source": [
    "**Escriba aquí la interpretación del árbol**"
   ]
  },
  {
   "cell_type": "markdown",
   "metadata": {},
   "source": [
    "## Ejercicio 7 [1 punto]\n",
    "\n",
    "\n",
    "1. Cree en GitHub un repositorio de nombre ```GBI6_ExamenPython```. \n",
    "2. Cree un archivo ```Readme.md``` que debe tener lo siguiente: \n",
    "- Datos personales\n",
    "- Características del computador\n",
    "- Versión de Python/Anaconda y de cada uno de los módulos/paquetes y utilizados\n",
    "- Explicación de la data utilizada\n",
    "\n",
    "3. Cree un directorio de nombre ```data``` donde deben estar guardado la data utilizada \n",
    "4. Realice al menos 1 control de la versión (commits) por cada ejercicio (del 1 al 6), con un mensaje que inicie como: \n",
    "\n",
    "```sh \n",
    "Carlitos Alimaña ha realizado .....  \n",
    "```"
   ]
  }
 ],
 "metadata": {
  "kernelspec": {
   "display_name": "Python 3",
   "language": "python",
   "name": "python3"
  },
  "language_info": {
   "codemirror_mode": {
    "name": "ipython",
    "version": 3
   },
   "file_extension": ".py",
   "mimetype": "text/x-python",
   "name": "python",
   "nbconvert_exporter": "python",
   "pygments_lexer": "ipython3",
   "version": "3.8.8"
  },
  "latex_envs": {
   "LaTeX_envs_menu_present": true,
   "autoclose": false,
   "autocomplete": true,
   "bibliofile": "biblio.bib",
   "cite_by": "apalike",
   "current_citInitial": 1,
   "eqLabelWithNumbers": true,
   "eqNumInitial": 1,
   "hotkeys": {
    "equation": "Ctrl-E",
    "itemize": "Ctrl-I"
   },
   "labels_anchors": false,
   "latex_user_defs": false,
   "report_style_numbering": false,
   "user_envs_cfg": false
  },
  "toc": {
   "base_numbering": 1,
   "nav_menu": {},
   "number_sections": true,
   "sideBar": false,
   "skip_h1_title": false,
   "title_cell": "Table of Contents",
   "title_sidebar": "Contents",
   "toc_cell": false,
   "toc_position": {
    "height": "1152.67px",
    "left": "41px",
    "top": "110px",
    "width": "253.458px"
   },
   "toc_section_display": true,
   "toc_window_display": false
  },
  "varInspector": {
   "cols": {
    "lenName": 16,
    "lenType": 16,
    "lenVar": 40
   },
   "kernels_config": {
    "python": {
     "delete_cmd_postfix": "",
     "delete_cmd_prefix": "del ",
     "library": "var_list.py",
     "varRefreshCmd": "print(var_dic_list())"
    },
    "r": {
     "delete_cmd_postfix": ") ",
     "delete_cmd_prefix": "rm(",
     "library": "var_list.r",
     "varRefreshCmd": "cat(var_dic_list()) "
    }
   },
   "types_to_exclude": [
    "module",
    "function",
    "builtin_function_or_method",
    "instance",
    "_Feature"
   ],
   "window_display": false
  }
 },
 "nbformat": 4,
 "nbformat_minor": 4
}
